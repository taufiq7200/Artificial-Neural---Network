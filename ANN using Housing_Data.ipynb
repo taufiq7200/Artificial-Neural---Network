{
 "cells": [
  {
   "cell_type": "code",
   "execution_count": 1,
   "metadata": {},
   "outputs": [],
   "source": [
    "import numpy as np\n",
    "import pandas as pd\n",
    "%matplotlib inline \n",
    "import matplotlib as api \n",
    "import matplotlib.pyplot as plt"
   ]
  },
  {
   "cell_type": "code",
   "execution_count": 2,
   "metadata": {},
   "outputs": [],
   "source": [
    "import tensorflow as tf\n",
    "from tensorflow import keras"
   ]
  },
  {
   "cell_type": "code",
   "execution_count": 3,
   "metadata": {},
   "outputs": [],
   "source": [
    "from sklearn.datasets import fetch_california_housing"
   ]
  },
  {
   "cell_type": "code",
   "execution_count": 4,
   "metadata": {},
   "outputs": [],
   "source": [
    "housing = fetch_california_housing()"
   ]
  },
  {
   "cell_type": "code",
   "execution_count": 5,
   "metadata": {},
   "outputs": [
    {
     "name": "stdout",
     "output_type": "stream",
     "text": [
      "['MedInc', 'HouseAge', 'AveRooms', 'AveBedrms', 'Population', 'AveOccup', 'Latitude', 'Longitude']\n"
     ]
    }
   ],
   "source": [
    "print(housing.feature_names)"
   ]
  },
  {
   "cell_type": "code",
   "execution_count": 6,
   "metadata": {},
   "outputs": [],
   "source": [
    "from sklearn.model_selection import train_test_split\n",
    "x_train_full , x_test , y_train_full , y_test = train_test_split(housing.data , housing.target , random_state = 42)\n",
    "x_train , x_valid , y_train , y_valid = train_test_split(x_train_full , y_train_full , random_state = 42)"
   ]
  },
  {
   "cell_type": "code",
   "execution_count": 7,
   "metadata": {},
   "outputs": [],
   "source": [
    "from sklearn.preprocessing import StandardScaler\n",
    "scaler = StandardScaler()\n",
    "x_train = scaler.fit_transform(x_train)\n",
    "x_valid = scaler.transform(x_valid)\n",
    "x_test = scaler.transform(x_test)"
   ]
  },
  {
   "cell_type": "code",
   "execution_count": 8,
   "metadata": {},
   "outputs": [],
   "source": [
    "np.random.seed(42)\n",
    "tf.random.set_seed(42)"
   ]
  },
  {
   "cell_type": "code",
   "execution_count": 9,
   "metadata": {},
   "outputs": [
    {
     "data": {
      "text/plain": [
       "(11610, 8)"
      ]
     },
     "execution_count": 9,
     "metadata": {},
     "output_type": "execute_result"
    }
   ],
   "source": [
    "x_train.shape"
   ]
  },
  {
   "cell_type": "code",
   "execution_count": 10,
   "metadata": {},
   "outputs": [],
   "source": [
    "model = keras.models.Sequential([\n",
    "    keras.layers.Dense(30 , activation = 'relu' , input_shape = [8]),\n",
    "    keras.layers.Dense(30 , activation = 'relu'),\n",
    "    keras.layers.Dense(1)\n",
    "])"
   ]
  },
  {
   "cell_type": "code",
   "execution_count": 11,
   "metadata": {},
   "outputs": [
    {
     "name": "stdout",
     "output_type": "stream",
     "text": [
      "Model: \"sequential\"\n",
      "_________________________________________________________________\n",
      "Layer (type)                 Output Shape              Param #   \n",
      "=================================================================\n",
      "dense (Dense)                (None, 30)                270       \n",
      "_________________________________________________________________\n",
      "dense_1 (Dense)              (None, 30)                930       \n",
      "_________________________________________________________________\n",
      "dense_2 (Dense)              (None, 1)                 31        \n",
      "=================================================================\n",
      "Total params: 1,231\n",
      "Trainable params: 1,231\n",
      "Non-trainable params: 0\n",
      "_________________________________________________________________\n"
     ]
    }
   ],
   "source": [
    "model.summary()"
   ]
  },
  {
   "cell_type": "code",
   "execution_count": 26,
   "metadata": {},
   "outputs": [],
   "source": [
    "model.compile(loss ='mean_squared_error',\n",
    "             optimizer = keras.optimizers.SGD(lr=1e-3),\n",
    "             metrics = ['mae'])"
   ]
  },
  {
   "cell_type": "code",
   "execution_count": 13,
   "metadata": {},
   "outputs": [
    {
     "name": "stdout",
     "output_type": "stream",
     "text": [
      "Train on 11610 samples, validate on 3870 samples\n",
      "Epoch 1/20\n",
      "11610/11610 [==============================] - 2s 146us/sample - loss: 1.8423 - mae: 0.9996 - val_loss: 5.2165 - val_mae: 0.7085\n",
      "Epoch 2/20\n",
      "11610/11610 [==============================] - 0s 42us/sample - loss: 0.6876 - mae: 0.6101 - val_loss: 0.7732 - val_mae: 0.5748\n",
      "Epoch 3/20\n",
      "11610/11610 [==============================] - 1s 43us/sample - loss: 0.5954 - mae: 0.5625 - val_loss: 0.5446 - val_mae: 0.5328\n",
      "Epoch 4/20\n",
      "11610/11610 [==============================] - 1s 44us/sample - loss: 0.5553 - mae: 0.5392 - val_loss: 0.5425 - val_mae: 0.5220\n",
      "Epoch 5/20\n",
      "11610/11610 [==============================] - 1s 44us/sample - loss: 0.5268 - mae: 0.5245 - val_loss: 0.5539 - val_mae: 0.5070\n",
      "Epoch 6/20\n",
      "11610/11610 [==============================] - 1s 43us/sample - loss: 0.5049 - mae: 0.5124 - val_loss: 0.4701 - val_mae: 0.4929\n",
      "Epoch 7/20\n",
      "11610/11610 [==============================] - 0s 43us/sample - loss: 0.4852 - mae: 0.5009 - val_loss: 0.4562 - val_mae: 0.4863\n",
      "Epoch 8/20\n",
      "11610/11610 [==============================] - 1s 45us/sample - loss: 0.4706 - mae: 0.4934 - val_loss: 0.4452 - val_mae: 0.4753\n",
      "Epoch 9/20\n",
      "11610/11610 [==============================] - 0s 43us/sample - loss: 0.4576 - mae: 0.4854 - val_loss: 0.4406 - val_mae: 0.4688\n",
      "Epoch 10/20\n",
      "11610/11610 [==============================] - 1s 44us/sample - loss: 0.4476 - mae: 0.4797 - val_loss: 0.4185 - val_mae: 0.4608\n",
      "Epoch 11/20\n",
      "11610/11610 [==============================] - 1s 44us/sample - loss: 0.4388 - mae: 0.4748 - val_loss: 0.4285 - val_mae: 0.4612\n",
      "Epoch 12/20\n",
      "11610/11610 [==============================] - 1s 44us/sample - loss: 0.4313 - mae: 0.4703 - val_loss: 0.4071 - val_mae: 0.4540\n",
      "Epoch 13/20\n",
      "11610/11610 [==============================] - 0s 43us/sample - loss: 0.4252 - mae: 0.4665 - val_loss: 0.3998 - val_mae: 0.4509\n",
      "Epoch 14/20\n",
      "11610/11610 [==============================] - 1s 45us/sample - loss: 0.4198 - mae: 0.4636 - val_loss: 0.3970 - val_mae: 0.4510\n",
      "Epoch 15/20\n",
      "11610/11610 [==============================] - 0s 43us/sample - loss: 0.4152 - mae: 0.4611 - val_loss: 0.4115 - val_mae: 0.4508\n",
      "Epoch 16/20\n",
      "11610/11610 [==============================] - 1s 45us/sample - loss: 0.4109 - mae: 0.4591 - val_loss: 0.3849 - val_mae: 0.4436\n",
      "Epoch 17/20\n",
      "11610/11610 [==============================] - 0s 42us/sample - loss: 0.4073 - mae: 0.4567 - val_loss: 0.3862 - val_mae: 0.4398\n",
      "Epoch 18/20\n",
      "11610/11610 [==============================] - 1s 45us/sample - loss: 0.4037 - mae: 0.4544 - val_loss: 0.3907 - val_mae: 0.4388\n",
      "Epoch 19/20\n",
      "11610/11610 [==============================] - 0s 41us/sample - loss: 0.4003 - mae: 0.4521 - val_loss: 0.3751 - val_mae: 0.4353\n",
      "Epoch 20/20\n",
      "11610/11610 [==============================] - 0s 43us/sample - loss: 0.3974 - mae: 0.4506 - val_loss: 0.3711 - val_mae: 0.4336\n"
     ]
    }
   ],
   "source": [
    "model_history = model.fit(x_train , y_train , epochs = 20 , validation_data = (x_valid , y_valid))"
   ]
  },
  {
   "cell_type": "code",
   "execution_count": 14,
   "metadata": {},
   "outputs": [
    {
     "name": "stdout",
     "output_type": "stream",
     "text": [
      "5160/5160 [==============================] - 0s 22us/sample - loss: 0.3943 - mae: 0.4491\n"
     ]
    }
   ],
   "source": [
    "mae_test = model.evaluate(x_test , y_test)"
   ]
  },
  {
   "cell_type": "code",
   "execution_count": 15,
   "metadata": {},
   "outputs": [
    {
     "data": {
      "text/plain": [
       "{'loss': [1.8422878422786406,\n",
       "  0.6876290683803837,\n",
       "  0.5954174913074517,\n",
       "  0.5553173896364874,\n",
       "  0.5268464679763196,\n",
       "  0.5048545387826224,\n",
       "  0.4852492377020797,\n",
       "  0.4705996497040879,\n",
       "  0.45761859669036437,\n",
       "  0.44759501153595177,\n",
       "  0.43882398432847447,\n",
       "  0.4313068858412809,\n",
       "  0.42522328599427506,\n",
       "  0.4198354722917542,\n",
       "  0.41517822991713277,\n",
       "  0.4109330989491005,\n",
       "  0.40728061705391333,\n",
       "  0.40368935084876884,\n",
       "  0.40026733138045806,\n",
       "  0.3974111870021064],\n",
       " 'mae': [0.9995966,\n",
       "  0.6101176,\n",
       "  0.56253254,\n",
       "  0.5392274,\n",
       "  0.5244746,\n",
       "  0.5124248,\n",
       "  0.5009327,\n",
       "  0.49341673,\n",
       "  0.48539588,\n",
       "  0.4797301,\n",
       "  0.4747582,\n",
       "  0.47030392,\n",
       "  0.46652922,\n",
       "  0.46359402,\n",
       "  0.4611386,\n",
       "  0.45905492,\n",
       "  0.45671204,\n",
       "  0.45440185,\n",
       "  0.45205775,\n",
       "  0.45057893],\n",
       " 'val_loss': [5.21652255600429,\n",
       "  0.7732010998621159,\n",
       "  0.5446314214273941,\n",
       "  0.5425261998515413,\n",
       "  0.5538934211321271,\n",
       "  0.4700541878547471,\n",
       "  0.4561706613354597,\n",
       "  0.44517563385864867,\n",
       "  0.4405697380002463,\n",
       "  0.4184946355662605,\n",
       "  0.4285463937185223,\n",
       "  0.4071471537037413,\n",
       "  0.39975932995940366,\n",
       "  0.3970433248413934,\n",
       "  0.4114505484815716,\n",
       "  0.38494563273681226,\n",
       "  0.3862030801384948,\n",
       "  0.39065808897948695,\n",
       "  0.37509274026836226,\n",
       "  0.37110799515586185],\n",
       " 'val_mae': [0.708459,\n",
       "  0.57483715,\n",
       "  0.53282803,\n",
       "  0.5220048,\n",
       "  0.50695384,\n",
       "  0.49291232,\n",
       "  0.48634365,\n",
       "  0.4753051,\n",
       "  0.4687787,\n",
       "  0.46080807,\n",
       "  0.46121606,\n",
       "  0.4539848,\n",
       "  0.45085073,\n",
       "  0.45097807,\n",
       "  0.4508084,\n",
       "  0.44360465,\n",
       "  0.4397901,\n",
       "  0.4388485,\n",
       "  0.43525487,\n",
       "  0.43364906]}"
      ]
     },
     "execution_count": 15,
     "metadata": {},
     "output_type": "execute_result"
    }
   ],
   "source": [
    "model_history.history"
   ]
  },
  {
   "cell_type": "code",
   "execution_count": 16,
   "metadata": {},
   "outputs": [
    {
     "data": {
      "image/png": "[encoded data removed]",
      "text/plain": [
       "<Figure size 576x360 with 1 Axes>"
      ]
     },
     "metadata": {
      "needs_background": "light"
     },
     "output_type": "display_data"
    }
   ],
   "source": [
    "pd.DataFrame(model_history.history).plot(figsize = (8 , 5))\n",
    "plt.grid(True)\n",
    "plt.gca().set_ylim(0,1)\n",
    "\n",
    "plt.show()"
   ]
  },
  {
   "cell_type": "code",
   "execution_count": 17,
   "metadata": {},
   "outputs": [],
   "source": [
    "x_new = x_test[:3]"
   ]
  },
  {
   "cell_type": "code",
   "execution_count": 18,
   "metadata": {},
   "outputs": [
    {
     "name": "stdout",
     "output_type": "stream",
     "text": [
      "[[0.527655 ]\n",
      " [1.8847213]\n",
      " [3.381916 ]]\n",
      "[0.477   0.458   5.00001]\n"
     ]
    }
   ],
   "source": [
    "y_pred = model.predict(x_new)\n",
    "print(y_pred)\n",
    "print(y_test[:3])"
   ]
  },
  {
   "cell_type": "code",
   "execution_count": 28,
   "metadata": {},
   "outputs": [],
   "source": [
    "del model"
   ]
  },
  {
   "cell_type": "code",
   "execution_count": 29,
   "metadata": {},
   "outputs": [],
   "source": [
    "keras.backend.clear_session()"
   ]
  },
  {
   "cell_type": "markdown",
   "metadata": {},
   "source": [
    "# Function API\n",
    "\n",
    "### Not all neural network are simply Sequential.some my have multiple input or multiple output."
   ]
  },
  {
   "cell_type": "code",
   "execution_count": 45,
   "metadata": {},
   "outputs": [],
   "source": [
    "input_ = keras.layers.Input(shape = x_train.shape[1:])\n",
    "hidden1 = keras.layers.Dense(30 , activation = 'relu')(input_)\n",
    "hidden2 = keras.layers.Dense(30, activation = 'relu')(hidden1)\n",
    "concat = keras.layers.concatenate([input_ , hidden2])\n",
    "output = keras.layers.Dense(1)(concat)\n",
    "model = keras.models.Model(inputs = [input_] , outputs = [output])"
   ]
  },
  {
   "cell_type": "code",
   "execution_count": 46,
   "metadata": {},
   "outputs": [
    {
     "name": "stdout",
     "output_type": "stream",
     "text": [
      "Model: \"model_2\"\n",
      "__________________________________________________________________________________________________\n",
      "Layer (type)                    Output Shape         Param #     Connected to                     \n",
      "==================================================================================================\n",
      "input_3 (InputLayer)            [(None, 8)]          0                                            \n",
      "__________________________________________________________________________________________________\n",
      "dense_6 (Dense)                 (None, 30)           270         input_3[0][0]                    \n",
      "__________________________________________________________________________________________________\n",
      "dense_7 (Dense)                 (None, 30)           930         dense_6[0][0]                    \n",
      "__________________________________________________________________________________________________\n",
      "concatenate_2 (Concatenate)     (None, 38)           0           input_3[0][0]                    \n",
      "                                                                 dense_7[0][0]                    \n",
      "__________________________________________________________________________________________________\n",
      "dense_8 (Dense)                 (None, 1)            39          concatenate_2[0][0]              \n",
      "==================================================================================================\n",
      "Total params: 1,239\n",
      "Trainable params: 1,239\n",
      "Non-trainable params: 0\n",
      "__________________________________________________________________________________________________\n"
     ]
    }
   ],
   "source": [
    "model.summary()"
   ]
  },
  {
   "cell_type": "code",
   "execution_count": 47,
   "metadata": {},
   "outputs": [],
   "source": [
    "model.compile(loss='mean_squared_error' , \n",
    "             optimizer = keras.optimizers.SGD(lr=1e-3) ,\n",
    "             metrics = ['mae'])"
   ]
  },
  {
   "cell_type": "code",
   "execution_count": 48,
   "metadata": {},
   "outputs": [
    {
     "name": "stdout",
     "output_type": "stream",
     "text": [
      "Train on 11610 samples, validate on 3870 samples\n",
      "Epoch 1/20\n",
      "11610/11610 [==============================] - 1s 77us/sample - loss: 1.7828 - mae: 0.9852 - val_loss: 1.7478 - val_mae: 0.6928\n",
      "Epoch 2/20\n",
      "11610/11610 [==============================] - 1s 43us/sample - loss: 0.7968 - mae: 0.6595 - val_loss: 0.7972 - val_mae: 0.6320\n",
      "Epoch 3/20\n",
      "11610/11610 [==============================] - 1s 43us/sample - loss: 0.7196 - mae: 0.6244 - val_loss: 0.6587 - val_mae: 0.5923\n",
      "Epoch 4/20\n",
      "11610/11610 [==============================] - 1s 44us/sample - loss: 0.6596 - mae: 0.5945 - val_loss: 0.6150 - val_mae: 0.5703\n",
      "Epoch 5/20\n",
      "11610/11610 [==============================] - 1s 46us/sample - loss: 0.6123 - mae: 0.5715 - val_loss: 0.5912 - val_mae: 0.5455\n",
      "Epoch 6/20\n",
      "11610/11610 [==============================] - 1s 44us/sample - loss: 0.5731 - mae: 0.5510 - val_loss: 0.5170 - val_mae: 0.5234\n",
      "Epoch 7/20\n",
      "11610/11610 [==============================] - 1s 45us/sample - loss: 0.5396 - mae: 0.5329 - val_loss: 0.4928 - val_mae: 0.5089\n",
      "Epoch 8/20\n",
      "11610/11610 [==============================] - 1s 44us/sample - loss: 0.5132 - mae: 0.5187 - val_loss: 0.4724 - val_mae: 0.4942\n",
      "Epoch 9/20\n",
      "11610/11610 [==============================] - 1s 45us/sample - loss: 0.4913 - mae: 0.5069 - val_loss: 0.4472 - val_mae: 0.4816\n",
      "Epoch 10/20\n",
      "11610/11610 [==============================] - 0s 43us/sample - loss: 0.4750 - mae: 0.4978 - val_loss: 0.4358 - val_mae: 0.4737\n",
      "Epoch 11/20\n",
      "11610/11610 [==============================] - 0s 43us/sample - loss: 0.4620 - mae: 0.4905 - val_loss: 0.4289 - val_mae: 0.4692\n",
      "Epoch 12/20\n",
      "11610/11610 [==============================] - 0s 43us/sample - loss: 0.4514 - mae: 0.4849 - val_loss: 0.4166 - val_mae: 0.4626\n",
      "Epoch 13/20\n",
      "11610/11610 [==============================] - 0s 42us/sample - loss: 0.4431 - mae: 0.4796 - val_loss: 0.4116 - val_mae: 0.4605\n",
      "Epoch 14/20\n",
      "11610/11610 [==============================] - 0s 42us/sample - loss: 0.4365 - mae: 0.4761 - val_loss: 0.4158 - val_mae: 0.4605\n",
      "Epoch 15/20\n",
      "11610/11610 [==============================] - 0s 43us/sample - loss: 0.4303 - mae: 0.4734 - val_loss: 0.6272 - val_mae: 0.4662\n",
      "Epoch 16/20\n",
      "11610/11610 [==============================] - 0s 42us/sample - loss: 0.4262 - mae: 0.4704 - val_loss: 0.6638 - val_mae: 0.4609\n",
      "Epoch 17/20\n",
      "11610/11610 [==============================] - 0s 43us/sample - loss: 0.4222 - mae: 0.4681 - val_loss: 0.4244 - val_mae: 0.4510\n",
      "Epoch 18/20\n",
      "11610/11610 [==============================] - 0s 42us/sample - loss: 0.4164 - mae: 0.4647 - val_loss: 0.3918 - val_mae: 0.4474\n",
      "Epoch 19/20\n",
      "11610/11610 [==============================] - 1s 44us/sample - loss: 0.4125 - mae: 0.4622 - val_loss: 0.4236 - val_mae: 0.4488\n",
      "Epoch 20/20\n",
      "11610/11610 [==============================] - 0s 43us/sample - loss: 0.4088 - mae: 0.4604 - val_loss: 0.5009 - val_mae: 0.4512\n"
     ]
    }
   ],
   "source": [
    "model_history = model.fit(x_train , y_train , epochs = 20 , validation_data= (x_valid , y_valid))"
   ]
  },
  {
   "cell_type": "code",
   "execution_count": 49,
   "metadata": {},
   "outputs": [
    {
     "name": "stdout",
     "output_type": "stream",
     "text": [
      "5160/5160 [==============================] - 0s 24us/sample - loss: 0.4075 - mae: 0.4599\n"
     ]
    }
   ],
   "source": [
    "mae_test = model.evaluate(x_test , y_test)"
   ]
  },
  {
   "cell_type": "code",
   "execution_count": 50,
   "metadata": {},
   "outputs": [
    {
     "data": {
      "text/plain": [
       "{'loss': [1.7827931681241997,\n",
       "  0.7968368115248503,\n",
       "  0.7196167647068507,\n",
       "  0.659635011098387,\n",
       "  0.6123479081268047,\n",
       "  0.5731249119422233,\n",
       "  0.5396359697484847,\n",
       "  0.5132474158469404,\n",
       "  0.491348795830228,\n",
       "  0.47496912409579517,\n",
       "  0.46198802178630943,\n",
       "  0.45138791207092577,\n",
       "  0.4431364787256379,\n",
       "  0.4365296949095812,\n",
       "  0.4303221785205895,\n",
       "  0.42615586936114475,\n",
       "  0.422239924719578,\n",
       "  0.41641005365936845,\n",
       "  0.4125186014442378,\n",
       "  0.4088454777418181],\n",
       " 'mae': [0.98519963,\n",
       "  0.6595479,\n",
       "  0.62438136,\n",
       "  0.5944544,\n",
       "  0.5715223,\n",
       "  0.5509749,\n",
       "  0.53292394,\n",
       "  0.5187173,\n",
       "  0.50693536,\n",
       "  0.49777687,\n",
       "  0.4905282,\n",
       "  0.4848898,\n",
       "  0.47962865,\n",
       "  0.47613654,\n",
       "  0.47337884,\n",
       "  0.4703608,\n",
       "  0.46810013,\n",
       "  0.46474358,\n",
       "  0.4621675,\n",
       "  0.46040136],\n",
       " 'val_loss': [1.747835808822967,\n",
       "  0.7971727017284364,\n",
       "  0.6586612014961489,\n",
       "  0.6150243667207023,\n",
       "  0.5912145275170181,\n",
       "  0.5170358085047059,\n",
       "  0.4928053278331609,\n",
       "  0.4723637904076613,\n",
       "  0.4472400626855919,\n",
       "  0.4357576769143728,\n",
       "  0.4288552690152974,\n",
       "  0.4165586538555086,\n",
       "  0.4116450825633929,\n",
       "  0.4157712136359178,\n",
       "  0.627219116071706,\n",
       "  0.663750498139273,\n",
       "  0.42439538516123476,\n",
       "  0.3917735960517435,\n",
       "  0.42363943041757096,\n",
       "  0.5008561917130645],\n",
       " 'val_mae': [0.6927615,\n",
       "  0.63196415,\n",
       "  0.59231716,\n",
       "  0.5703212,\n",
       "  0.545478,\n",
       "  0.52335274,\n",
       "  0.5089003,\n",
       "  0.49415058,\n",
       "  0.48159584,\n",
       "  0.4736777,\n",
       "  0.46915877,\n",
       "  0.46262062,\n",
       "  0.46053526,\n",
       "  0.46048373,\n",
       "  0.4662474,\n",
       "  0.46085528,\n",
       "  0.45100954,\n",
       "  0.44738463,\n",
       "  0.44883004,\n",
       "  0.45122668]}"
      ]
     },
     "execution_count": 50,
     "metadata": {},
     "output_type": "execute_result"
    }
   ],
   "source": [
    "model.history.history"
   ]
  },
  {
   "cell_type": "code",
   "execution_count": 51,
   "metadata": {},
   "outputs": [
    {
     "data": {
      "image/png": "[encoded data removed]",
      "text/plain": [
       "<Figure size 576x360 with 1 Axes>"
      ]
     },
     "metadata": {
      "needs_background": "light"
     },
     "output_type": "display_data"
    }
   ],
   "source": [
    "pd.DataFrame(model_history.history).plot(figsize = ( 8 , 5))\n",
    "plt.grid(True)\n",
    "plt.gca().set_ylim(0,1)\n",
    "\n",
    "plt.show()"
   ]
  },
  {
   "cell_type": "markdown",
   "metadata": {},
   "source": [
    "## Saving And Restoring"
   ]
  },
  {
   "cell_type": "code",
   "execution_count": 52,
   "metadata": {},
   "outputs": [
    {
     "name": "stdout",
     "output_type": "stream",
     "text": [
      "WARNING:tensorflow:From C:\\Users\\ADMIN\\anaconda3\\envs\\Tensorflow\\lib\\site-packages\\tensorflow_core\\python\\ops\\resource_variable_ops.py:1786: calling BaseResourceVariable.__init__ (from tensorflow.python.ops.resource_variable_ops) with constraint is deprecated and will be removed in a future version.\n",
      "Instructions for updating:\n",
      "If using Keras pass *_constraint arguments to layers.\n",
      "INFO:tensorflow:Assets written to: my_Func_model.hs\\assets\n"
     ]
    }
   ],
   "source": [
    "model.save('my_Func_model.hs')"
   ]
  },
  {
   "cell_type": "code",
   "execution_count": 53,
   "metadata": {},
   "outputs": [
    {
     "data": {
      "text/plain": [
       "'C:\\\\Users\\\\ADMIN'"
      ]
     },
     "execution_count": 53,
     "metadata": {},
     "output_type": "execute_result"
    }
   ],
   "source": [
    "%pwd"
   ]
  },
  {
   "cell_type": "code",
   "execution_count": 54,
   "metadata": {},
   "outputs": [],
   "source": [
    "del model"
   ]
  },
  {
   "cell_type": "code",
   "execution_count": 55,
   "metadata": {},
   "outputs": [],
   "source": [
    "keras.backend.clear_session()"
   ]
  },
  {
   "cell_type": "code",
   "execution_count": 56,
   "metadata": {},
   "outputs": [],
   "source": [
    "model = keras.models.load_model('my_func_model.hs')"
   ]
  },
  {
   "cell_type": "code",
   "execution_count": 57,
   "metadata": {},
   "outputs": [
    {
     "name": "stdout",
     "output_type": "stream",
     "text": [
      "Model: \"model_2\"\n",
      "__________________________________________________________________________________________________\n",
      "Layer (type)                    Output Shape         Param #     Connected to                     \n",
      "==================================================================================================\n",
      "input_3 (InputLayer)            [(None, 8)]          0                                            \n",
      "__________________________________________________________________________________________________\n",
      "dense_6 (Dense)                 (None, 30)           270         input_3[0][0]                    \n",
      "__________________________________________________________________________________________________\n",
      "dense_7 (Dense)                 (None, 30)           930         dense_6[0][0]                    \n",
      "__________________________________________________________________________________________________\n",
      "concatenate_2 (Concatenate)     (None, 38)           0           input_3[0][0]                    \n",
      "                                                                 dense_7[0][0]                    \n",
      "__________________________________________________________________________________________________\n",
      "dense_8 (Dense)                 (None, 1)            39          concatenate_2[0][0]              \n",
      "==================================================================================================\n",
      "Total params: 1,239\n",
      "Trainable params: 1,239\n",
      "Non-trainable params: 0\n",
      "__________________________________________________________________________________________________\n"
     ]
    }
   ],
   "source": [
    "model.summary()"
   ]
  },
  {
   "cell_type": "code",
   "execution_count": 58,
   "metadata": {},
   "outputs": [
    {
     "name": "stdout",
     "output_type": "stream",
     "text": [
      "[[0.6428362]\n",
      " [1.8291979]\n",
      " [3.5007093]]\n"
     ]
    }
   ],
   "source": [
    "y_pred = model.predict(x_new)\n",
    "print(y_pred)"
   ]
  },
  {
   "cell_type": "markdown",
   "metadata": {},
   "source": [
    "## Using Callback during Training"
   ]
  },
  {
   "cell_type": "code",
   "execution_count": 82,
   "metadata": {},
   "outputs": [],
   "source": [
    "keras.backend.clear_session()\n",
    "np.random.seed(42)\n",
    "tf.random.set_seed(42)"
   ]
  },
  {
   "cell_type": "code",
   "execution_count": 83,
   "metadata": {},
   "outputs": [],
   "source": [
    "model = keras.models.Sequential([\n",
    "    keras.layers.Dense(30 , activation = 'relu' , input_shape = [8]),\n",
    "    keras.layers.Dense(30 , activation = 'relu'),\n",
    "    keras.layers.Dense(1)\n",
    "])"
   ]
  },
  {
   "cell_type": "code",
   "execution_count": 84,
   "metadata": {},
   "outputs": [],
   "source": [
    "model.compile(loss = 'mse' , optimizer = keras.optimizers.SGD(lr = 1e-3))"
   ]
  },
  {
   "cell_type": "code",
   "execution_count": 94,
   "metadata": {},
   "outputs": [],
   "source": [
    "checkpoint_cb = keras.callbacks.ModelCheckpoint('Model-{epoch:02d}.h5')"
   ]
  },
  {
   "cell_type": "code",
   "execution_count": 95,
   "metadata": {},
   "outputs": [
    {
     "name": "stdout",
     "output_type": "stream",
     "text": [
      "Train on 11610 samples, validate on 3870 samples\n",
      "Epoch 1/10\n",
      "11610/11610 [==============================] - 1s 84us/sample - loss: 0.6903 - val_loss: 0.9814\n",
      "Epoch 2/10\n",
      "11610/11610 [==============================] - 1s 45us/sample - loss: 0.5981 - val_loss: 0.5847\n",
      "Epoch 3/10\n",
      "11610/11610 [==============================] - 1s 45us/sample - loss: 0.5554 - val_loss: 0.5306\n",
      "Epoch 4/10\n",
      "11610/11610 [==============================] - 1s 44us/sample - loss: 0.5274 - val_loss: 0.5004\n",
      "Epoch 5/10\n",
      "11610/11610 [==============================] - 0s 43us/sample - loss: 0.5036 - val_loss: 0.5383\n",
      "Epoch 6/10\n",
      "11610/11610 [==============================] - 1s 43us/sample - loss: 0.4863 - val_loss: 0.4526\n",
      "Epoch 7/10\n",
      "11610/11610 [==============================] - 1s 44us/sample - loss: 0.4701 - val_loss: 0.4425\n",
      "Epoch 8/10\n",
      "11610/11610 [==============================] - 1s 44us/sample - loss: 0.4580 - val_loss: 0.4322\n",
      "Epoch 9/10\n",
      "11610/11610 [==============================] - 1s 44us/sample - loss: 0.4473 - val_loss: 0.4277\n",
      "Epoch 10/10\n",
      "11610/11610 [==============================] - 1s 44us/sample - loss: 0.4389 - val_loss: 0.4103\n"
     ]
    }
   ],
   "source": [
    "history = model.fit(x_train , y_train , epochs = 10 ,\n",
    "                   validation_data = (x_valid , y_valid) ,\n",
    "                   callbacks =[checkpoint_cb])"
   ]
  },
  {
   "cell_type": "code",
   "execution_count": 96,
   "metadata": {},
   "outputs": [],
   "source": [
    "del model \n",
    "keras.backend.clear_session()"
   ]
  },
  {
   "cell_type": "code",
   "execution_count": 106,
   "metadata": {},
   "outputs": [],
   "source": [
    "model = keras.models.load_model('Model-10.h5')"
   ]
  },
  {
   "cell_type": "code",
   "execution_count": 102,
   "metadata": {},
   "outputs": [
    {
     "name": "stdout",
     "output_type": "stream",
     "text": [
      "5160/5160 [==============================] - 0s 34us/sample - loss: 0.4302\n"
     ]
    }
   ],
   "source": [
    "mse_test = model.evaluate(x_test , y_test)"
   ]
  },
  {
   "cell_type": "markdown",
   "metadata": {},
   "source": [
    "## Best Model "
   ]
  },
  {
   "cell_type": "code",
   "execution_count": 107,
   "metadata": {},
   "outputs": [],
   "source": [
    "del model\n"
   ]
  },
  {
   "cell_type": "code",
   "execution_count": 108,
   "metadata": {},
   "outputs": [],
   "source": [
    "keras.backend.clear_session()"
   ]
  },
  {
   "cell_type": "code",
   "execution_count": 109,
   "metadata": {},
   "outputs": [],
   "source": [
    "model = keras.models.Sequential([\n",
    "    keras.layers.Dense(30  , activation = 'relu' , input_shape = [8]),\n",
    "    keras.layers.Dense(30 , activation = 'relu'),\n",
    "    keras.layers.Dense(1)\n",
    "])"
   ]
  },
  {
   "cell_type": "code",
   "execution_count": 110,
   "metadata": {},
   "outputs": [],
   "source": [
    "model.compile(loss = 'mse' , optimizer = keras.optimizers.SGD(lr = 1e-3))"
   ]
  },
  {
   "cell_type": "code",
   "execution_count": 111,
   "metadata": {},
   "outputs": [],
   "source": [
    "checkpoint_cb = keras.callbacks.ModelCheckpoint('Best_Model.h5' , save_best_only = True)"
   ]
  },
  {
   "cell_type": "code",
   "execution_count": 112,
   "metadata": {},
   "outputs": [
    {
     "name": "stdout",
     "output_type": "stream",
     "text": [
      "Train on 11610 samples, validate on 3870 samples\n",
      "Epoch 1/10\n",
      "11610/11610 [==============================] - 1s 73us/sample - loss: 2.0065 - val_loss: 1.0664\n",
      "Epoch 2/10\n",
      "11610/11610 [==============================] - 1s 43us/sample - loss: 0.7724 - val_loss: 0.7007\n",
      "Epoch 3/10\n",
      "11610/11610 [==============================] - 0s 42us/sample - loss: 0.6726 - val_loss: 0.6150\n",
      "Epoch 4/10\n",
      "11610/11610 [==============================] - 0s 43us/sample - loss: 0.6069 - val_loss: 0.5925\n",
      "Epoch 5/10\n",
      "11610/11610 [==============================] - 0s 42us/sample - loss: 0.5578 - val_loss: 0.6410\n",
      "Epoch 6/10\n",
      "11610/11610 [==============================] - 1s 44us/sample - loss: 0.5227 - val_loss: 0.5006\n",
      "Epoch 7/10\n",
      "11610/11610 [==============================] - 1s 43us/sample - loss: 0.4911 - val_loss: 0.4876\n",
      "Epoch 8/10\n",
      "11610/11610 [==============================] - 1s 44us/sample - loss: 0.4700 - val_loss: 0.4277\n",
      "Epoch 9/10\n",
      "11610/11610 [==============================] - 0s 42us/sample - loss: 0.4524 - val_loss: 0.4134\n",
      "Epoch 10/10\n",
      "11610/11610 [==============================] - 0s 43us/sample - loss: 0.4396 - val_loss: 0.4022\n"
     ]
    }
   ],
   "source": [
    "history = model.fit(x_train , y_train , epochs = 10 , \n",
    "                   validation_data = (x_valid , y_valid),\n",
    "                   callbacks = [checkpoint_cb])"
   ]
  },
  {
   "cell_type": "code",
   "execution_count": 113,
   "metadata": {},
   "outputs": [
    {
     "name": "stdout",
     "output_type": "stream",
     "text": [
      "5160/5160 [==============================] - 0s 36us/sample - loss: 0.4297\n"
     ]
    }
   ],
   "source": [
    "model = keras.models.load_model('Best_Model.h5')\n",
    "mse_test = model.evaluate(x_test , y_test)"
   ]
  },
  {
   "cell_type": "code",
   "execution_count": 114,
   "metadata": {},
   "outputs": [],
   "source": [
    "del model \n",
    "keras.backend.clear_session()"
   ]
  },
  {
   "cell_type": "code",
   "execution_count": 115,
   "metadata": {},
   "outputs": [],
   "source": [
    "model = keras.models.Sequential([\n",
    "    keras.layers.Dense(30 , activation = 'relu' , input_shape = [8]),\n",
    "    keras.layers.Dense(30 , activation = 'relu'),\n",
    "    keras.layers.Dense(1)\n",
    "])"
   ]
  },
  {
   "cell_type": "code",
   "execution_count": 116,
   "metadata": {},
   "outputs": [],
   "source": [
    "model.compile(loss = 'mse' , optimizer = keras.optimizers.SGD(lr = 1e-3)) "
   ]
  },
  {
   "cell_type": "code",
   "execution_count": 118,
   "metadata": {},
   "outputs": [],
   "source": [
    "checkpoint_cb = keras.callbacks.ModelCheckpoint('early_stop_model.h5' , save_best_only = True)"
   ]
  },
  {
   "cell_type": "code",
   "execution_count": 119,
   "metadata": {},
   "outputs": [],
   "source": [
    "early_stopping = keras.callbacks.EarlyStopping(patience = 10 ,\n",
    "                                              restore_best_weights = True)"
   ]
  },
  {
   "cell_type": "code",
   "execution_count": 120,
   "metadata": {},
   "outputs": [
    {
     "name": "stdout",
     "output_type": "stream",
     "text": [
      "Train on 11610 samples, validate on 3870 samples\n",
      "Epoch 1/200\n",
      "11610/11610 [==============================] - 1s 74us/sample - loss: 1.5119 - val_loss: 1.9196\n",
      "Epoch 2/200\n",
      "11610/11610 [==============================] - 1s 44us/sample - loss: 0.6773 - val_loss: 0.7131\n",
      "Epoch 3/200\n",
      "11610/11610 [==============================] - 1s 44us/sample - loss: 0.6166 - val_loss: 0.5757\n",
      "Epoch 4/200\n",
      "11610/11610 [==============================] - 1s 44us/sample - loss: 0.5767 - val_loss: 0.5415\n",
      "Epoch 5/200\n",
      "11610/11610 [==============================] - 1s 44us/sample - loss: 0.5446 - val_loss: 0.5190\n",
      "Epoch 6/200\n",
      "11610/11610 [==============================] - 1s 45us/sample - loss: 0.5184 - val_loss: 0.4859\n",
      "Epoch 7/200\n",
      "11610/11610 [==============================] - 1s 44us/sample - loss: 0.4963 - val_loss: 0.4646\n",
      "Epoch 8/200\n",
      "11610/11610 [==============================] - 1s 44us/sample - loss: 0.4783 - val_loss: 0.4437\n",
      "Epoch 9/200\n",
      "11610/11610 [==============================] - 1s 44us/sample - loss: 0.4631 - val_loss: 0.4293\n",
      "Epoch 10/200\n",
      "11610/11610 [==============================] - 0s 42us/sample - loss: 0.4505 - val_loss: 0.4184\n",
      "Epoch 11/200\n",
      "11610/11610 [==============================] - 0s 42us/sample - loss: 0.4401 - val_loss: 0.4157\n",
      "Epoch 12/200\n",
      "11610/11610 [==============================] - 1s 44us/sample - loss: 0.4313 - val_loss: 0.4080\n",
      "Epoch 13/200\n",
      "11610/11610 [==============================] - 0s 42us/sample - loss: 0.4243 - val_loss: 0.4033\n",
      "Epoch 14/200\n",
      "11610/11610 [==============================] - 1s 44us/sample - loss: 0.4183 - val_loss: 0.4046\n",
      "Epoch 15/200\n",
      "11610/11610 [==============================] - 1s 44us/sample - loss: 0.4130 - val_loss: 0.4218\n",
      "Epoch 16/200\n",
      "11610/11610 [==============================] - 1s 43us/sample - loss: 0.4084 - val_loss: 0.3943\n",
      "Epoch 17/200\n",
      "11610/11610 [==============================] - 0s 42us/sample - loss: 0.4047 - val_loss: 0.3860\n",
      "Epoch 18/200\n",
      "11610/11610 [==============================] - 0s 40us/sample - loss: 0.4008 - val_loss: 0.4070\n",
      "Epoch 19/200\n",
      "11610/11610 [==============================] - 0s 43us/sample - loss: 0.3974 - val_loss: 0.3878\n",
      "Epoch 20/200\n",
      "11610/11610 [==============================] - 0s 42us/sample - loss: 0.3945 - val_loss: 0.4136\n",
      "Epoch 21/200\n",
      "11610/11610 [==============================] - 0s 40us/sample - loss: 0.3917 - val_loss: 0.3926\n",
      "Epoch 22/200\n",
      "11610/11610 [==============================] - 0s 43us/sample - loss: 0.3889 - val_loss: 0.4054\n",
      "Epoch 23/200\n",
      "11610/11610 [==============================] - 0s 42us/sample - loss: 0.3865 - val_loss: 0.3927\n",
      "Epoch 24/200\n",
      "11610/11610 [==============================] - 1s 44us/sample - loss: 0.3843 - val_loss: 0.3798\n",
      "Epoch 25/200\n",
      "11610/11610 [==============================] - 0s 42us/sample - loss: 0.3822 - val_loss: 0.3816\n",
      "Epoch 26/200\n",
      "11610/11610 [==============================] - 1s 43us/sample - loss: 0.3802 - val_loss: 0.3837\n",
      "Epoch 27/200\n",
      "11610/11610 [==============================] - 0s 43us/sample - loss: 0.3780 - val_loss: 0.4149\n",
      "Epoch 28/200\n",
      "11610/11610 [==============================] - 1s 43us/sample - loss: 0.3764 - val_loss: 0.3855\n",
      "Epoch 29/200\n",
      "11610/11610 [==============================] - 0s 42us/sample - loss: 0.3745 - val_loss: 0.4299\n",
      "Epoch 30/200\n",
      "11610/11610 [==============================] - 1s 43us/sample - loss: 0.3731 - val_loss: 0.4157\n",
      "Epoch 31/200\n",
      "11610/11610 [==============================] - 0s 43us/sample - loss: 0.3717 - val_loss: 0.3851\n",
      "Epoch 32/200\n",
      "11610/11610 [==============================] - 0s 41us/sample - loss: 0.3704 - val_loss: 0.3916\n",
      "Epoch 33/200\n",
      "11610/11610 [==============================] - 1s 44us/sample - loss: 0.3691 - val_loss: 0.4101\n",
      "Epoch 34/200\n",
      "11610/11610 [==============================] - 1s 44us/sample - loss: 0.3680 - val_loss: 0.3731\n",
      "Epoch 35/200\n",
      "11610/11610 [==============================] - 0s 42us/sample - loss: 0.3666 - val_loss: 0.4089\n",
      "Epoch 36/200\n",
      "11610/11610 [==============================] - 1s 45us/sample - loss: 0.3657 - val_loss: 0.3678\n",
      "Epoch 37/200\n",
      "11610/11610 [==============================] - 0s 42us/sample - loss: 0.3646 - val_loss: 0.4188\n",
      "Epoch 38/200\n",
      "11610/11610 [==============================] - 0s 42us/sample - loss: 0.3635 - val_loss: 0.3858\n",
      "Epoch 39/200\n",
      "11610/11610 [==============================] - 0s 42us/sample - loss: 0.3622 - val_loss: 0.4318\n",
      "Epoch 40/200\n",
      "11610/11610 [==============================] - 0s 42us/sample - loss: 0.3619 - val_loss: 0.3751\n",
      "Epoch 41/200\n",
      "11610/11610 [==============================] - 0s 43us/sample - loss: 0.3606 - val_loss: 0.4165\n",
      "Epoch 42/200\n",
      "11610/11610 [==============================] - 1s 44us/sample - loss: 0.3600 - val_loss: 0.3817\n",
      "Epoch 43/200\n",
      "11610/11610 [==============================] - 0s 42us/sample - loss: 0.3589 - val_loss: 0.3930\n",
      "Epoch 44/200\n",
      "11610/11610 [==============================] - 0s 43us/sample - loss: 0.3579 - val_loss: 0.3911\n",
      "Epoch 45/200\n",
      "11610/11610 [==============================] - 0s 42us/sample - loss: 0.3573 - val_loss: 0.3821\n",
      "Epoch 46/200\n",
      "11610/11610 [==============================] - 1s 44us/sample - loss: 0.3566 - val_loss: 0.3606\n",
      "Epoch 47/200\n",
      "11610/11610 [==============================] - 1s 44us/sample - loss: 0.3552 - val_loss: 0.4075\n",
      "Epoch 48/200\n",
      "11610/11610 [==============================] - 0s 42us/sample - loss: 0.3551 - val_loss: 0.3558\n",
      "Epoch 49/200\n",
      "11610/11610 [==============================] - 0s 41us/sample - loss: 0.3542 - val_loss: 0.3996\n",
      "Epoch 50/200\n",
      "11610/11610 [==============================] - 1s 43us/sample - loss: 0.3536 - val_loss: 0.3496\n",
      "Epoch 51/200\n",
      "11610/11610 [==============================] - 0s 41us/sample - loss: 0.3531 - val_loss: 0.3643\n",
      "Epoch 52/200\n",
      "11610/11610 [==============================] - 0s 42us/sample - loss: 0.3524 - val_loss: 0.3729\n",
      "Epoch 53/200\n",
      "11610/11610 [==============================] - 0s 43us/sample - loss: 0.3519 - val_loss: 0.3865\n",
      "Epoch 54/200\n",
      "11610/11610 [==============================] - 0s 40us/sample - loss: 0.3512 - val_loss: 0.3770\n",
      "Epoch 55/200\n",
      "11610/11610 [==============================] - 0s 43us/sample - loss: 0.3505 - val_loss: 0.3585\n",
      "Epoch 56/200\n",
      "11610/11610 [==============================] - 1s 43us/sample - loss: 0.3498 - val_loss: 0.4000\n",
      "Epoch 57/200\n",
      "11610/11610 [==============================] - 0s 43us/sample - loss: 0.3495 - val_loss: 0.3577\n",
      "Epoch 58/200\n",
      "11610/11610 [==============================] - 0s 42us/sample - loss: 0.3488 - val_loss: 0.3685\n",
      "Epoch 59/200\n",
      "11610/11610 [==============================] - 0s 42us/sample - loss: 0.3482 - val_loss: 0.3521\n",
      "Epoch 60/200\n",
      "11610/11610 [==============================] - 0s 42us/sample - loss: 0.3476 - val_loss: 0.4027\n"
     ]
    }
   ],
   "source": [
    "history = model.fit(x_train , y_train , epochs = 200 ,\n",
    "                   validation_data = (x_valid , y_valid) , \n",
    "                   callbacks = [checkpoint_cb , early_stopping])"
   ]
  },
  {
   "cell_type": "code",
   "execution_count": 121,
   "metadata": {},
   "outputs": [
    {
     "name": "stdout",
     "output_type": "stream",
     "text": [
      "5160/5160 [==============================] - 0s 34us/sample - loss: 0.3586\n"
     ]
    }
   ],
   "source": [
    "model = keras.models.load_model('early_stop_model.h5')\n",
    "mse_test = model.evaluate(x_test , y_test)"
   ]
  },
  {
   "cell_type": "code",
   "execution_count": null,
   "metadata": {},
   "outputs": [],
   "source": []
  }
 ],
 "metadata": {
  "kernelspec": {
   "display_name": "Python 3",
   "language": "python",
   "name": "python3"
  },
  "language_info": {
   "codemirror_mode": {
    "name": "ipython",
    "version": 3
   },
   "file_extension": ".py",
   "mimetype": "text/x-python",
   "name": "python",
   "nbconvert_exporter": "python",
   "pygments_lexer": "ipython3",
   "version": "3.7.9"
  }
 },
 "nbformat": 4,
 "nbformat_minor": 4
}
